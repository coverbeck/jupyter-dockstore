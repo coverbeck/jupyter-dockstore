{
 "cells": [
  {
   "cell_type": "markdown",
   "id": "dd1104f9-18f9-44fe-ad5c-daf4840c293c",
   "metadata": {},
   "source": [
    "# Welcome to Jupyter via Dockstore Services"
   ]
  },
  {
   "cell_type": "code",
   "execution_count": 3,
   "id": "5884239b-4657-44b3-a6eb-1df088e9b7e8",
   "metadata": {},
   "outputs": [
    {
     "name": "stdout",
     "output_type": "stream",
     "text": [
      "Hello world!\n"
     ]
    }
   ],
   "source": [
    "print('Hello world!')"
   ]
  },
  {
   "cell_type": "code",
   "execution_count": null,
   "id": "b9f26f5c-d7b2-43ca-a395-b467b37c57b2",
   "metadata": {},
   "outputs": [],
   "source": []
  }
 ],
 "metadata": {
  "kernelspec": {
   "display_name": "Python 3 (ipykernel)",
   "language": "python",
   "name": "python3"
  },
  "language_info": {
   "codemirror_mode": {
    "name": "ipython",
    "version": 3
   },
   "file_extension": ".py",
   "mimetype": "text/x-python",
   "name": "python",
   "nbconvert_exporter": "python",
   "pygments_lexer": "ipython3",
   "version": "3.9.10"
  }
 },
 "nbformat": 4,
 "nbformat_minor": 5
}
